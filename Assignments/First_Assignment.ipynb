{
 "cells": [
  {
   "cell_type": "markdown",
   "metadata": {},
   "source": [
    "# Write a program to print all prime numbers in between 100 and 300"
   ]
  },
  {
   "cell_type": "code",
   "execution_count": 1,
   "metadata": {},
   "outputs": [
    {
     "name": "stdout",
     "output_type": "stream",
     "text": [
      "101 103 107 109 113 127 131 137 139 149 151 157 163 167 173 179 181 191 193 197 199 211 223 227 229 233 239 241 251 257 263 269 271 277 281 283 293 "
     ]
    }
   ],
   "source": [
    "for i in range(100,301):\n",
    "    f=0\n",
    "    for j in range(1,i+1):\n",
    "       if i%j == 0:\n",
    "           f+=1\n",
    "    if f==2:\n",
    "        print(i,end=' ')"
   ]
  },
  {
   "cell_type": "markdown",
   "metadata": {},
   "source": [
    "# Write a program to find number is Armstrong number or not"
   ]
  },
  {
   "cell_type": "code",
   "execution_count": 2,
   "metadata": {},
   "outputs": [
    {
     "name": "stdout",
     "output_type": "stream",
     "text": [
      "enter number152\n",
      "the number is not armstrong\n"
     ]
    }
   ],
   "source": [
    "n= int(input(\"enter number\"))\n",
    "sum=0\n",
    "\n",
    "tmp=n\n",
    "while tmp>0:\n",
    "    digi = tmp%10\n",
    "    sum += digi**3\n",
    "    tmp //= 10\n",
    "if sum == n:\n",
    "    print(\"the number is armstrong\")\n",
    "else:\n",
    "    print(\"the number is not armstrong\")\n",
    "\n"
   ]
  },
  {
   "cell_type": "code",
   "execution_count": null,
   "metadata": {},
   "outputs": [],
   "source": []
  }
 ],
 "metadata": {
  "kernelspec": {
   "display_name": "Python 3",
   "language": "python",
   "name": "python3"
  },
  "language_info": {
   "codemirror_mode": {
    "name": "ipython",
    "version": 3
   },
   "file_extension": ".py",
   "mimetype": "text/x-python",
   "name": "python",
   "nbconvert_exporter": "python",
   "pygments_lexer": "ipython3",
   "version": "3.7.3"
  }
 },
 "nbformat": 4,
 "nbformat_minor": 2
}
